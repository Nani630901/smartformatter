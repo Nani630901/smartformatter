{
 "cells": [
  {
   "cell_type": "code",
   "execution_count": 1,
   "id": "fc85ef29-2236-4881-b6b4-d361d0c214d3",
   "metadata": {},
   "outputs": [],
   "source": [
    "!mkdir smartformatter"
   ]
  },
  {
   "cell_type": "code",
   "execution_count": 3,
   "id": "e46fc731-a7c8-419c-9497-993a9036fb2b",
   "metadata": {},
   "outputs": [
    {
     "name": "stdout",
     "output_type": "stream",
     "text": [
      "Overwriting setup.py\n"
     ]
    }
   ],
   "source": [
    "%%writefile setup.py\n",
    "\n",
    "from setuptools import setup, find_packages\n",
    "\n",
    "setup(\n",
    "    name ='smartformatter',\n",
    "    version='0.1',\n",
    "    packages=find_packages(),\n",
    "    install_requires=['inflect'],\n",
    "    author='Shankar',\n",
    "    description='Utility functions for smart formatting of names, phones, numbers.',\n",
    ")"
   ]
  },
  {
   "cell_type": "code",
   "execution_count": null,
   "id": "89dc8c7b-d5af-49f7-94dc-aa70330c847e",
   "metadata": {},
   "outputs": [],
   "source": []
  }
 ],
 "metadata": {
  "kernelspec": {
   "display_name": "Python 3 (ipykernel)",
   "language": "python",
   "name": "python3"
  },
  "language_info": {
   "codemirror_mode": {
    "name": "ipython",
    "version": 3
   },
   "file_extension": ".py",
   "mimetype": "text/x-python",
   "name": "python",
   "nbconvert_exporter": "python",
   "pygments_lexer": "ipython3",
   "version": "3.12.7"
  }
 },
 "nbformat": 4,
 "nbformat_minor": 5
}
